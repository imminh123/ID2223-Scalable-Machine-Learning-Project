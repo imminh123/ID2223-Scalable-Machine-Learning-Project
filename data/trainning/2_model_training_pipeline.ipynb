{
 "cells": [
  {
   "cell_type": "code",
   "execution_count": 16,
   "metadata": {},
   "outputs": [
    {
     "name": "stdout",
     "output_type": "stream",
     "text": [
      "/Users/nguyenminh/.zshenv:.:1: no such file or directory: /Users/nguyenminh/.cargo/env\n",
      "Collecting hopsworks\n",
      "  Downloading hopsworks-4.1.4-py3-none-any.whl.metadata (11 kB)\n",
      "Requirement already satisfied: pyhumps==1.6.1 in /Users/nguyenminh/.pyenv/versions/3.11.5/lib/python3.11/site-packages (from hopsworks) (1.6.1)\n",
      "Requirement already satisfied: requests in /Users/nguyenminh/.pyenv/versions/3.11.5/lib/python3.11/site-packages (from hopsworks) (2.32.3)\n",
      "Requirement already satisfied: furl in /Users/nguyenminh/.pyenv/versions/3.11.5/lib/python3.11/site-packages (from hopsworks) (2.1.3)\n",
      "Requirement already satisfied: boto3 in /Users/nguyenminh/.pyenv/versions/3.11.5/lib/python3.11/site-packages (from hopsworks) (1.35.54)\n",
      "Requirement already satisfied: pandas<2.2.0 in /Users/nguyenminh/.pyenv/versions/3.11.5/lib/python3.11/site-packages (from hopsworks) (2.1.4)\n",
      "Requirement already satisfied: pyjks in /Users/nguyenminh/.pyenv/versions/3.11.5/lib/python3.11/site-packages (from hopsworks) (20.0.0)\n",
      "Requirement already satisfied: mock in /Users/nguyenminh/.pyenv/versions/3.11.5/lib/python3.11/site-packages (from hopsworks) (5.1.0)\n",
      "Requirement already satisfied: avro==1.11.3 in /Users/nguyenminh/.pyenv/versions/3.11.5/lib/python3.11/site-packages (from hopsworks) (1.11.3)\n",
      "Requirement already satisfied: sqlalchemy in /Users/nguyenminh/.pyenv/versions/3.11.5/lib/python3.11/site-packages (from hopsworks) (1.4.48)\n",
      "Requirement already satisfied: PyMySQL[rsa] in /Users/nguyenminh/.pyenv/versions/3.11.5/lib/python3.11/site-packages (from hopsworks) (1.1.1)\n",
      "Requirement already satisfied: tzlocal in /Users/nguyenminh/.pyenv/versions/3.11.5/lib/python3.11/site-packages (from hopsworks) (5.2)\n",
      "Requirement already satisfied: fsspec in /Users/nguyenminh/.pyenv/versions/3.11.5/lib/python3.11/site-packages (from hopsworks) (2024.3.1)\n",
      "Requirement already satisfied: retrying in /Users/nguyenminh/.pyenv/versions/3.11.5/lib/python3.11/site-packages (from hopsworks) (1.3.4)\n",
      "Collecting hopsworks_aiomysql==0.2.1 (from hopsworks_aiomysql[sa]==0.2.1->hopsworks)\n",
      "  Downloading hopsworks_aiomysql-0.2.1-py3-none-any.whl.metadata (11 kB)\n",
      "Requirement already satisfied: opensearch-py<=2.4.2,>=1.1.0 in /Users/nguyenminh/.pyenv/versions/3.11.5/lib/python3.11/site-packages (from hopsworks) (2.4.2)\n",
      "Requirement already satisfied: tqdm in /Users/nguyenminh/.pyenv/versions/3.11.5/lib/python3.11/site-packages (from hopsworks) (4.66.4)\n",
      "Requirement already satisfied: grpcio<2.0.0,>=1.49.1 in /Users/nguyenminh/.pyenv/versions/3.11.5/lib/python3.11/site-packages (from hopsworks) (1.63.0)\n",
      "Collecting protobuf<5.0.0,>=4.25.4 (from hopsworks)\n",
      "  Downloading protobuf-4.25.5-cp37-abi3-macosx_10_9_universal2.whl.metadata (541 bytes)\n",
      "Requirement already satisfied: urllib3>=1.26.18 in /Users/nguyenminh/.pyenv/versions/3.11.5/lib/python3.11/site-packages (from opensearch-py<=2.4.2,>=1.1.0->hopsworks) (2.2.1)\n",
      "Requirement already satisfied: six in /Users/nguyenminh/.pyenv/versions/3.11.5/lib/python3.11/site-packages (from opensearch-py<=2.4.2,>=1.1.0->hopsworks) (1.16.0)\n",
      "Requirement already satisfied: python-dateutil in /Users/nguyenminh/.pyenv/versions/3.11.5/lib/python3.11/site-packages (from opensearch-py<=2.4.2,>=1.1.0->hopsworks) (2.9.0.post0)\n",
      "Requirement already satisfied: certifi>=2022.12.07 in /Users/nguyenminh/.pyenv/versions/3.11.5/lib/python3.11/site-packages (from opensearch-py<=2.4.2,>=1.1.0->hopsworks) (2024.8.30)\n",
      "Requirement already satisfied: numpy<2,>=1.23.2 in /Users/nguyenminh/.pyenv/versions/3.11.5/lib/python3.11/site-packages (from pandas<2.2.0->hopsworks) (1.26.0)\n",
      "Requirement already satisfied: pytz>=2020.1 in /Users/nguyenminh/.pyenv/versions/3.11.5/lib/python3.11/site-packages (from pandas<2.2.0->hopsworks) (2023.3)\n",
      "Requirement already satisfied: tzdata>=2022.1 in /Users/nguyenminh/.pyenv/versions/3.11.5/lib/python3.11/site-packages (from pandas<2.2.0->hopsworks) (2024.1)\n",
      "Requirement already satisfied: charset-normalizer<4,>=2 in /Users/nguyenminh/.pyenv/versions/3.11.5/lib/python3.11/site-packages (from requests->hopsworks) (3.3.2)\n",
      "Requirement already satisfied: idna<4,>=2.5 in /Users/nguyenminh/.pyenv/versions/3.11.5/lib/python3.11/site-packages (from requests->hopsworks) (3.4)\n",
      "Requirement already satisfied: botocore<1.36.0,>=1.35.54 in /Users/nguyenminh/.pyenv/versions/3.11.5/lib/python3.11/site-packages (from boto3->hopsworks) (1.35.54)\n",
      "Requirement already satisfied: jmespath<2.0.0,>=0.7.1 in /Users/nguyenminh/.pyenv/versions/3.11.5/lib/python3.11/site-packages (from boto3->hopsworks) (1.0.1)\n",
      "Requirement already satisfied: s3transfer<0.11.0,>=0.10.0 in /Users/nguyenminh/.pyenv/versions/3.11.5/lib/python3.11/site-packages (from boto3->hopsworks) (0.10.3)\n",
      "Requirement already satisfied: orderedmultidict>=1.0.1 in /Users/nguyenminh/.pyenv/versions/3.11.5/lib/python3.11/site-packages (from furl->hopsworks) (1.0.1)\n",
      "Requirement already satisfied: javaobj-py3 in /Users/nguyenminh/.pyenv/versions/3.11.5/lib/python3.11/site-packages (from pyjks->hopsworks) (0.4.4)\n",
      "Requirement already satisfied: pyasn1>=0.3.5 in /Users/nguyenminh/.pyenv/versions/3.11.5/lib/python3.11/site-packages (from pyjks->hopsworks) (0.6.0)\n",
      "Requirement already satisfied: pyasn1-modules in /Users/nguyenminh/.pyenv/versions/3.11.5/lib/python3.11/site-packages (from pyjks->hopsworks) (0.4.0)\n",
      "Requirement already satisfied: pycryptodomex in /Users/nguyenminh/.pyenv/versions/3.11.5/lib/python3.11/site-packages (from pyjks->hopsworks) (3.21.0)\n",
      "Requirement already satisfied: twofish in /Users/nguyenminh/.pyenv/versions/3.11.5/lib/python3.11/site-packages (from pyjks->hopsworks) (0.3.0)\n",
      "Requirement already satisfied: cryptography in /Users/nguyenminh/.pyenv/versions/3.11.5/lib/python3.11/site-packages (from PyMySQL[rsa]->hopsworks) (42.0.7)\n",
      "Requirement already satisfied: cffi>=1.12 in /Users/nguyenminh/.pyenv/versions/3.11.5/lib/python3.11/site-packages (from cryptography->PyMySQL[rsa]->hopsworks) (1.16.0)\n",
      "Requirement already satisfied: pycparser in /Users/nguyenminh/.pyenv/versions/3.11.5/lib/python3.11/site-packages (from cffi>=1.12->cryptography->PyMySQL[rsa]->hopsworks) (2.21)\n",
      "Downloading hopsworks-4.1.4-py3-none-any.whl (640 kB)\n",
      "\u001b[2K   \u001b[38;2;114;156;31m━━━━━━━━━━━━━━━━━━━━━━━━━━━━━━━━━━━━━━━━\u001b[0m \u001b[32m640.3/640.3 kB\u001b[0m \u001b[31m3.8 MB/s\u001b[0m eta \u001b[36m0:00:00\u001b[0m MB/s\u001b[0m eta \u001b[36m0:00:01\u001b[0m:01\u001b[0m\n",
      "\u001b[?25hDownloading hopsworks_aiomysql-0.2.1-py3-none-any.whl (44 kB)\n",
      "\u001b[2K   \u001b[38;2;114;156;31m━━━━━━━━━━━━━━━━━━━━━━━━━━━━━━━━━━━━━━━━\u001b[0m \u001b[32m44.2/44.2 kB\u001b[0m \u001b[31m5.5 MB/s\u001b[0m eta \u001b[36m0:00:00\u001b[0m\n",
      "\u001b[?25hDownloading protobuf-4.25.5-cp37-abi3-macosx_10_9_universal2.whl (394 kB)\n",
      "\u001b[2K   \u001b[38;2;114;156;31m━━━━━━━━━━━━━━━━━━━━━━━━━━━━━━━━━━━━━━━━\u001b[0m \u001b[32m394.2/394.2 kB\u001b[0m \u001b[31m6.5 MB/s\u001b[0m eta \u001b[36m0:00:00\u001b[0m[31m14.0 MB/s\u001b[0m eta \u001b[36m0:00:01\u001b[0m\n",
      "\u001b[?25hInstalling collected packages: protobuf, hopsworks_aiomysql, hopsworks\n",
      "  Attempting uninstall: protobuf\n",
      "    Found existing installation: protobuf 4.25.3\n",
      "    Uninstalling protobuf-4.25.3:\n",
      "      Successfully uninstalled protobuf-4.25.3\n",
      "Successfully installed hopsworks-4.1.4 hopsworks_aiomysql-0.2.1 protobuf-4.25.5\n",
      "\n",
      "\u001b[1m[\u001b[0m\u001b[34;49mnotice\u001b[0m\u001b[1;39;49m]\u001b[0m\u001b[39;49m A new release of pip is available: \u001b[0m\u001b[31;49m24.0\u001b[0m\u001b[39;49m -> \u001b[0m\u001b[32;49m24.3.1\u001b[0m\n",
      "\u001b[1m[\u001b[0m\u001b[34;49mnotice\u001b[0m\u001b[1;39;49m]\u001b[0m\u001b[39;49m To update, run: \u001b[0m\u001b[32;49mpip install --upgrade pip\u001b[0m\n",
      "Note: you may need to restart the kernel to use updated packages.\n"
     ]
    }
   ],
   "source": [
    "pip install hopsworks"
   ]
  },
  {
   "cell_type": "code",
   "execution_count": 17,
   "metadata": {},
   "outputs": [],
   "source": [
    "# If you haven't set the env variable 'HOPSWORKS_API_KEY', then uncomment the next line and enter your API key\n",
    "import os\n",
    "import dotenv\n",
    "import datetime\n",
    "import requests\n",
    "import pandas as pd\n",
    "import hopsworks\n",
    "import datetime\n",
    "from pathlib import Path\n",
    "import json\n",
    "import re\n",
    "import os\n",
    "import warnings\n",
    "warnings.filterwarnings(\"ignore\")\n",
    "dotenv.load_dotenv()\n",
    "\n",
    "api_key = os.environ.get(\"HOPSWORKS_API_KEY\")\n",
    "os.environ[\"HOPSWORKS_API_KEY\"] = api_key"
   ]
  },
  {
   "cell_type": "code",
   "execution_count": 23,
   "metadata": {},
   "outputs": [
    {
     "name": "stdout",
     "output_type": "stream",
     "text": [
      "Connection closed.\n",
      "Connected. Call `.close()` to terminate connection gracefully.\n"
     ]
    },
    {
     "name": "stderr",
     "output_type": "stream",
     "text": [
      "\n",
      "\n"
     ]
    },
    {
     "name": "stdout",
     "output_type": "stream",
     "text": [
      "\n",
      "Logged in to project, explore it here https://c.app.hopsworks.ai:443/p/1161368\n",
      "Connected. Call `.close()` to terminate connection gracefully.\n"
     ]
    },
    {
     "ename": "TypeError",
     "evalue": "FeatureStore.__init__() missing 1 required positional argument: 'hive_endpoint'",
     "output_type": "error",
     "traceback": [
      "\u001b[0;31m---------------------------------------------------------------------------\u001b[0m",
      "\u001b[0;31mTypeError\u001b[0m                                 Traceback (most recent call last)",
      "Cell \u001b[0;32mIn[23], line 3\u001b[0m\n\u001b[1;32m      1\u001b[0m \u001b[38;5;28;01mimport\u001b[39;00m \u001b[38;5;21;01mhopsworks\u001b[39;00m \n\u001b[1;32m      2\u001b[0m project \u001b[38;5;241m=\u001b[39m hopsworks\u001b[38;5;241m.\u001b[39mlogin()\n\u001b[0;32m----> 3\u001b[0m fs \u001b[38;5;241m=\u001b[39m \u001b[43mproject\u001b[49m\u001b[38;5;241;43m.\u001b[39;49m\u001b[43mget_feature_store\u001b[49m\u001b[43m(\u001b[49m\u001b[43mname\u001b[49m\u001b[38;5;241;43m=\u001b[39;49m\u001b[38;5;124;43m'\u001b[39;49m\u001b[38;5;124;43mscalable_ml_dl_kth_featurestore\u001b[39;49m\u001b[38;5;124;43m'\u001b[39;49m\u001b[43m)\u001b[49m\n\u001b[1;32m      5\u001b[0m weather_fg \u001b[38;5;241m=\u001b[39m fs\u001b[38;5;241m.\u001b[39mget_or_create_feature_group(name\u001b[38;5;241m=\u001b[39m\u001b[38;5;124m\"\u001b[39m\u001b[38;5;124mweather\u001b[39m\u001b[38;5;124m\"\u001b[39m,\n\u001b[1;32m      6\u001b[0m  version\u001b[38;5;241m=\u001b[39m\u001b[38;5;241m1\u001b[39m,\n\u001b[1;32m      7\u001b[0m  description\u001b[38;5;241m=\u001b[39m\u001b[38;5;124m\"\u001b[39m\u001b[38;5;124mWeather Daily Updates\u001b[39m\u001b[38;5;124m\"\u001b[39m,\n\u001b[1;32m      8\u001b[0m  primary_key\u001b[38;5;241m=\u001b[39m[\u001b[38;5;124m'\u001b[39m\u001b[38;5;124mcity\u001b[39m\u001b[38;5;124m'\u001b[39m],\n\u001b[1;32m      9\u001b[0m  )\n\u001b[1;32m     10\u001b[0m fg \u001b[38;5;241m=\u001b[39m fs\u001b[38;5;241m.\u001b[39mget_feature_group(\u001b[38;5;124m'\u001b[39m\u001b[38;5;124mweather\u001b[39m\u001b[38;5;124m'\u001b[39m, version\u001b[38;5;241m=\u001b[39m\u001b[38;5;241m1\u001b[39m)\n",
      "File \u001b[0;32m~/.pyenv/versions/3.11.5/lib/python3.11/site-packages/hopsworks/project.py:128\u001b[0m, in \u001b[0;36mProject.get_feature_store\u001b[0;34m(self, name)\u001b[0m\n\u001b[1;32m    120\u001b[0m     \u001b[38;5;28;01mif\u001b[39;00m _client\u001b[38;5;241m.\u001b[39m_host \u001b[38;5;241m==\u001b[39m constants\u001b[38;5;241m.\u001b[39mHOSTS\u001b[38;5;241m.\u001b[39mAPP_HOST:\n\u001b[1;32m    121\u001b[0m         engine \u001b[38;5;241m=\u001b[39m \u001b[38;5;124m\"\u001b[39m\u001b[38;5;124mpython\u001b[39m\u001b[38;5;124m\"\u001b[39m\n\u001b[1;32m    122\u001b[0m     \u001b[38;5;28;01mreturn\u001b[39;00m \u001b[43mconnection\u001b[49m\u001b[43m(\u001b[49m\n\u001b[1;32m    123\u001b[0m \u001b[43m        \u001b[49m\u001b[43mhost\u001b[49m\u001b[38;5;241;43m=\u001b[39;49m\u001b[43m_client\u001b[49m\u001b[38;5;241;43m.\u001b[39;49m\u001b[43m_host\u001b[49m\u001b[43m,\u001b[49m\n\u001b[1;32m    124\u001b[0m \u001b[43m        \u001b[49m\u001b[43mport\u001b[49m\u001b[38;5;241;43m=\u001b[39;49m\u001b[43m_client\u001b[49m\u001b[38;5;241;43m.\u001b[39;49m\u001b[43m_port\u001b[49m\u001b[43m,\u001b[49m\n\u001b[1;32m    125\u001b[0m \u001b[43m        \u001b[49m\u001b[43mproject\u001b[49m\u001b[38;5;241;43m=\u001b[39;49m\u001b[38;5;28;43mself\u001b[39;49m\u001b[38;5;241;43m.\u001b[39;49m\u001b[43mname\u001b[49m\u001b[43m,\u001b[49m\n\u001b[1;32m    126\u001b[0m \u001b[43m        \u001b[49m\u001b[43mapi_key_value\u001b[49m\u001b[38;5;241;43m=\u001b[39;49m\u001b[43m_client\u001b[49m\u001b[38;5;241;43m.\u001b[39;49m\u001b[43m_auth\u001b[49m\u001b[38;5;241;43m.\u001b[39;49m\u001b[43m_token\u001b[49m\u001b[43m,\u001b[49m\n\u001b[1;32m    127\u001b[0m \u001b[43m        \u001b[49m\u001b[43mengine\u001b[49m\u001b[38;5;241;43m=\u001b[39;49m\u001b[43mengine\u001b[49m\u001b[43m,\u001b[49m\n\u001b[0;32m--> 128\u001b[0m \u001b[43m    \u001b[49m\u001b[43m)\u001b[49m\u001b[38;5;241;43m.\u001b[39;49m\u001b[43mget_feature_store\u001b[49m\u001b[43m(\u001b[49m\u001b[43mname\u001b[49m\u001b[43m)\u001b[49m\n\u001b[1;32m    129\u001b[0m \u001b[38;5;28;01melse\u001b[39;00m:\n\u001b[1;32m    130\u001b[0m     \u001b[38;5;28;01mreturn\u001b[39;00m connection()\u001b[38;5;241m.\u001b[39mget_feature_store(name)\n",
      "File \u001b[0;32m~/.pyenv/versions/3.11.5/lib/python3.11/site-packages/hsfs/usage.py:212\u001b[0m, in \u001b[0;36mmethod_logger.<locals>.wrapper\u001b[0;34m(*args, **kwargs)\u001b[0m\n\u001b[1;32m    210\u001b[0m \u001b[38;5;28;01mexcept\u001b[39;00m \u001b[38;5;167;01mException\u001b[39;00m \u001b[38;5;28;01mas\u001b[39;00m e:\n\u001b[1;32m    211\u001b[0m     exception \u001b[38;5;241m=\u001b[39m e\n\u001b[0;32m--> 212\u001b[0m     \u001b[38;5;28;01mraise\u001b[39;00m e\n\u001b[1;32m    213\u001b[0m \u001b[38;5;28;01mfinally\u001b[39;00m:\n\u001b[1;32m    214\u001b[0m     \u001b[38;5;28;01mtry\u001b[39;00m:\n",
      "File \u001b[0;32m~/.pyenv/versions/3.11.5/lib/python3.11/site-packages/hsfs/usage.py:208\u001b[0m, in \u001b[0;36mmethod_logger.<locals>.wrapper\u001b[0;34m(*args, **kwargs)\u001b[0m\n\u001b[1;32m    205\u001b[0m exception \u001b[38;5;241m=\u001b[39m \u001b[38;5;28;01mNone\u001b[39;00m\n\u001b[1;32m    206\u001b[0m \u001b[38;5;28;01mtry\u001b[39;00m:\n\u001b[1;32m    207\u001b[0m     \u001b[38;5;66;03m# Call the original method\u001b[39;00m\n\u001b[0;32m--> 208\u001b[0m     result \u001b[38;5;241m=\u001b[39m \u001b[43mfunc\u001b[49m\u001b[43m(\u001b[49m\u001b[38;5;241;43m*\u001b[39;49m\u001b[43margs\u001b[49m\u001b[43m,\u001b[49m\u001b[43m \u001b[49m\u001b[38;5;241;43m*\u001b[39;49m\u001b[38;5;241;43m*\u001b[39;49m\u001b[43mkwargs\u001b[49m\u001b[43m)\u001b[49m\n\u001b[1;32m    209\u001b[0m     \u001b[38;5;28;01mreturn\u001b[39;00m result\n\u001b[1;32m    210\u001b[0m \u001b[38;5;28;01mexcept\u001b[39;00m \u001b[38;5;167;01mException\u001b[39;00m \u001b[38;5;28;01mas\u001b[39;00m e:\n",
      "File \u001b[0;32m~/.pyenv/versions/3.11.5/lib/python3.11/site-packages/hsfs/decorators.py:35\u001b[0m, in \u001b[0;36mconnected.<locals>.if_connected\u001b[0;34m(inst, *args, **kwargs)\u001b[0m\n\u001b[1;32m     33\u001b[0m \u001b[38;5;28;01mif\u001b[39;00m \u001b[38;5;129;01mnot\u001b[39;00m inst\u001b[38;5;241m.\u001b[39m_connected:\n\u001b[1;32m     34\u001b[0m     \u001b[38;5;28;01mraise\u001b[39;00m NoHopsworksConnectionError\n\u001b[0;32m---> 35\u001b[0m \u001b[38;5;28;01mreturn\u001b[39;00m \u001b[43mfn\u001b[49m\u001b[43m(\u001b[49m\u001b[43minst\u001b[49m\u001b[43m,\u001b[49m\u001b[43m \u001b[49m\u001b[38;5;241;43m*\u001b[39;49m\u001b[43margs\u001b[49m\u001b[43m,\u001b[49m\u001b[43m \u001b[49m\u001b[38;5;241;43m*\u001b[39;49m\u001b[38;5;241;43m*\u001b[39;49m\u001b[43mkwargs\u001b[49m\u001b[43m)\u001b[49m\n",
      "File \u001b[0;32m~/.pyenv/versions/3.11.5/lib/python3.11/site-packages/hsfs/connection.py:186\u001b[0m, in \u001b[0;36mConnection.get_feature_store\u001b[0;34m(self, name)\u001b[0m\n\u001b[1;32m    184\u001b[0m \u001b[38;5;28;01mif\u001b[39;00m \u001b[38;5;129;01mnot\u001b[39;00m name:\n\u001b[1;32m    185\u001b[0m     name \u001b[38;5;241m=\u001b[39m client\u001b[38;5;241m.\u001b[39mget_instance()\u001b[38;5;241m.\u001b[39m_project_name\n\u001b[0;32m--> 186\u001b[0m \u001b[38;5;28;01mreturn\u001b[39;00m \u001b[38;5;28;43mself\u001b[39;49m\u001b[38;5;241;43m.\u001b[39;49m\u001b[43m_feature_store_api\u001b[49m\u001b[38;5;241;43m.\u001b[39;49m\u001b[43mget\u001b[49m\u001b[43m(\u001b[49m\u001b[43mutil\u001b[49m\u001b[38;5;241;43m.\u001b[39;49m\u001b[43mappend_feature_store_suffix\u001b[49m\u001b[43m(\u001b[49m\u001b[43mname\u001b[49m\u001b[43m)\u001b[49m\u001b[43m)\u001b[49m\n",
      "File \u001b[0;32m~/.pyenv/versions/3.11.5/lib/python3.11/site-packages/hsfs/core/feature_store_api.py:35\u001b[0m, in \u001b[0;36mFeatureStoreApi.get\u001b[0;34m(self, identifier)\u001b[0m\n\u001b[1;32m     33\u001b[0m _client \u001b[38;5;241m=\u001b[39m client\u001b[38;5;241m.\u001b[39mget_instance()\n\u001b[1;32m     34\u001b[0m path_params \u001b[38;5;241m=\u001b[39m [\u001b[38;5;124m\"\u001b[39m\u001b[38;5;124mproject\u001b[39m\u001b[38;5;124m\"\u001b[39m, _client\u001b[38;5;241m.\u001b[39m_project_id, \u001b[38;5;124m\"\u001b[39m\u001b[38;5;124mfeaturestores\u001b[39m\u001b[38;5;124m\"\u001b[39m, identifier]\n\u001b[0;32m---> 35\u001b[0m \u001b[38;5;28;01mreturn\u001b[39;00m \u001b[43mFeatureStore\u001b[49m\u001b[38;5;241;43m.\u001b[39;49m\u001b[43mfrom_response_json\u001b[49m\u001b[43m(\u001b[49m\n\u001b[1;32m     36\u001b[0m \u001b[43m    \u001b[49m\u001b[43m_client\u001b[49m\u001b[38;5;241;43m.\u001b[39;49m\u001b[43m_send_request\u001b[49m\u001b[43m(\u001b[49m\u001b[38;5;124;43m\"\u001b[39;49m\u001b[38;5;124;43mGET\u001b[39;49m\u001b[38;5;124;43m\"\u001b[39;49m\u001b[43m,\u001b[49m\u001b[43m \u001b[49m\u001b[43mpath_params\u001b[49m\u001b[43m)\u001b[49m\n\u001b[1;32m     37\u001b[0m \u001b[43m\u001b[49m\u001b[43m)\u001b[49m\n",
      "File \u001b[0;32m~/.pyenv/versions/3.11.5/lib/python3.11/site-packages/hsfs/feature_store.py:123\u001b[0m, in \u001b[0;36mFeatureStore.from_response_json\u001b[0;34m(cls, json_dict)\u001b[0m\n\u001b[1;32m    121\u001b[0m json_decamelized\u001b[38;5;241m.\u001b[39mpop(\u001b[38;5;124m\"\u001b[39m\u001b[38;5;124mfeaturestore_description\u001b[39m\u001b[38;5;124m\"\u001b[39m, \u001b[38;5;28;01mNone\u001b[39;00m)\n\u001b[1;32m    122\u001b[0m json_decamelized\u001b[38;5;241m.\u001b[39mpop(\u001b[38;5;124m\"\u001b[39m\u001b[38;5;124minode_id\u001b[39m\u001b[38;5;124m\"\u001b[39m, \u001b[38;5;28;01mNone\u001b[39;00m)\n\u001b[0;32m--> 123\u001b[0m \u001b[38;5;28;01mreturn\u001b[39;00m \u001b[38;5;28;43mcls\u001b[39;49m\u001b[43m(\u001b[49m\u001b[38;5;241;43m*\u001b[39;49m\u001b[38;5;241;43m*\u001b[39;49m\u001b[43mjson_decamelized\u001b[49m\u001b[43m)\u001b[49m\n",
      "\u001b[0;31mTypeError\u001b[0m: FeatureStore.__init__() missing 1 required positional argument: 'hive_endpoint'"
     ]
    }
   ],
   "source": [
    "import hopsworks \n",
    "project = hopsworks.login()\n",
    "fs = project.get_feature_store(name='scalable_ml_dl_kth_featurestore')\n",
    "\n",
    "weather_fg = fs.get_or_create_feature_group(name=\"weather\",\n",
    " version=1,\n",
    " description=\"Weather Daily Updates\",\n",
    " primary_key=['city'],\n",
    " )\n",
    "fg = fs.get_feature_group('weather', version=1)"
   ]
  }
 ],
 "metadata": {
  "kernelspec": {
   "display_name": "3.11.5",
   "language": "python",
   "name": "python3"
  },
  "language_info": {
   "codemirror_mode": {
    "name": "ipython",
    "version": 3
   },
   "file_extension": ".py",
   "mimetype": "text/x-python",
   "name": "python",
   "nbconvert_exporter": "python",
   "pygments_lexer": "ipython3",
   "version": "3.11.5"
  }
 },
 "nbformat": 4,
 "nbformat_minor": 2
}
