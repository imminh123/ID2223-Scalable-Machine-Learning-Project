{
 "cells": [
  {
   "cell_type": "code",
   "execution_count": 3,
   "metadata": {},
   "outputs": [],
   "source": [
    "import pandas as pd\n",
    "import random\n",
    "\n",
    "positive_songs_rcm_df = pd.read_csv('friends_positive_with_songs.csv')\n",
    "negative_songs_rcm_df = pd.read_csv('friends_negative_with_songs.csv')\n",
    "\n",
    "# filter out songs with Cleaned_Dialogue contains only one word\n",
    "# positive_songs_rcm_df = positive_songs_rcm_df[positive_songs_rcm_df['Cleaned_Dialogue'].str.split().str.len() > 3]\n",
    "# negative_songs_rcm_df = negative_songs_rcm_df[negative_songs_rcm_df['Cleaned_Dialogue'].str.split().str.len() > 3]\n",
    "\n",
    "# for every row, split the Song Recommendations by comma into a list and for each song, make a new row, with the same values for the other columns\n",
    "positive_songs_rcm_df = positive_songs_rcm_df.assign(\n",
    "    Song_Recommendations=positive_songs_rcm_df['Song Recommendations']\n",
    "    .str.split(', ')\n",
    "    .apply(lambda x: [random.choice(x)])\n",
    ").explode('Song_Recommendations')\n",
    "negative_songs_rcm_df = negative_songs_rcm_df.assign(\n",
    "    Song_Recommendations=negative_songs_rcm_df['Song Recommendations']\n",
    "    .str.split(', ')\n",
    "    .apply(lambda x: [random.choice(x)])\n",
    ").explode('Song_Recommendations')\n",
    "\n",
    "# remove Song Recommendations column and rename Song_Recommendations to Song Recommendations\n",
    "positive_songs_rcm_df = positive_songs_rcm_df.drop(columns=['Song Recommendations'])\n",
    "positive_songs_rcm_df = positive_songs_rcm_df.rename(columns={'Song_Recommendations': 'Song Recommendations'})\n",
    "\n",
    "negative_songs_rcm_df = negative_songs_rcm_df.drop(columns=['Song Recommendations'])\n",
    "negative_songs_rcm_df = negative_songs_rcm_df.rename(columns={'Song_Recommendations': 'Song Recommendations'})\n",
    "\n",
    "# process_songs_df = pd.read_csv('processed_songs_with_lyrics.csv')\n",
    "# additional_songs_df = pd.read_csv('additional_songs_with_lyrics.csv')\n",
    "\n",
    "# write to csv\n",
    "positive_songs_rcm_df = positive_songs_rcm_df[['Cleaned_Dialogue', 'Song Recommendations']]\n",
    "negative_songs_rcm_df = negative_songs_rcm_df[['Cleaned_Dialogue', 'Song Recommendations']]\n",
    "positive_songs_rcm_df.to_csv('friends_positive_with_songs_lite.csv', index=False)\n",
    "negative_songs_rcm_df.to_csv('friends_negative_with_songs_lite.csv', index=False)\n",
    "\n",
    "\n",
    "\n",
    "\n",
    "\n"
   ]
  },
  {
   "cell_type": "markdown",
   "metadata": {},
   "source": [
    "## Merge recommendation to song lyrics"
   ]
  },
  {
   "cell_type": "code",
   "execution_count": 3,
   "metadata": {},
   "outputs": [],
   "source": [
    "import pandas as pd\n",
    "\n",
    "positive_songs_rcm_df = pd.read_csv('friends_positive_with_songs_lite.csv')\n",
    "\n",
    "# merge and add only lyrics column with file songs_with_lyrics.csv\n",
    "songs_df = pd.read_csv('songs_with_lyrics.csv')\n",
    "positive_songs_rcm_df = positive_songs_rcm_df.merge(songs_df, left_on='Song Recommendations', right_on='Song Name', how='left')\n",
    "\n",
    "# to csv\n",
    "positive_songs_rcm_df = positive_songs_rcm_df[['Cleaned_Dialogue', 'Song Recommendations', 'lyrics']]\n",
    "positive_songs_rcm_df.to_csv('friends_positive_with_songs_lite_lyrics.csv', index=False)"
   ]
  },
  {
   "cell_type": "code",
   "execution_count": 2,
   "metadata": {},
   "outputs": [],
   "source": [
    "import pandas as pd \n",
    "\n",
    "positive_songs_rcm_df = pd.read_csv('friends_positive_with_songs_lite.csv')\n",
    "negative_songs_rcm_df = pd.read_csv('friends_negative_with_songs_lite.csv')\n",
    "\n",
    "songs_rcm_df = pd.concat([positive_songs_rcm_df, negative_songs_rcm_df])\n",
    "\n",
    "# map song recommendations to song lyrics\n",
    "# process_songs_with_lyrics_df = pd.read_csv('../../data/raw/processed_songs_with_lyrics_updated.csv')\n",
    "# process_songs_with_lyrics_df = process_songs_with_lyrics_df[['Song Name', 'lyrics']]\n",
    "\n",
    "# songs_rcm_df = songs_rcm_df.merge(process_songs_with_lyrics_df, left_on='Song Recommendations', right_on='Song Name')\n",
    "\n",
    "# # remove Song Name column\n",
    "# songs_rcm_df = songs_rcm_df.drop(columns=['Song Name'])\n",
    "\n",
    "# write to csv\n",
    "songs_rcm_df.to_csv('query_with_songs_and_lyrics_lite.csv', index=False)\n",
    "\n",
    "\n",
    "\n"
   ]
  }
 ],
 "metadata": {
  "kernelspec": {
   "display_name": "3.11.5",
   "language": "python",
   "name": "python3"
  },
  "language_info": {
   "codemirror_mode": {
    "name": "ipython",
    "version": 3
   },
   "file_extension": ".py",
   "mimetype": "text/x-python",
   "name": "python",
   "nbconvert_exporter": "python",
   "pygments_lexer": "ipython3",
   "version": "3.11.5"
  }
 },
 "nbformat": 4,
 "nbformat_minor": 2
}
